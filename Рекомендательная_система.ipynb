{
  "cells": [
    {
      "cell_type": "code",
      "source": [
        "import pandas as pd\n",
        "from tqdm import tqdm\n",
        "import numpy as np\n",
        "import matplotlib.pyplot as plt\n",
        "import seaborn as sns\n",
        "import networkx as nx\n",
        "import dgl\n",
        "import torch\n",
        "import torch.nn as nn\n",
        "import itertools\n",
        "import torch.nn.functional as F\n",
        "from sklearn.preprocessing import StandardScaler\n",
        "from dgl.nn import SAGEConv\n",
        "import dgl.function as fn\n",
        "from sklearn.metrics import roc_auc_score\n",
        "from sklearn.metrics import roc_curve\n",
        "from sklearn.metrics import f1_score\n",
        "from sklearn.preprocessing import OneHotEncoder"
      ],
      "metadata": {
        "id": "pu0IklxJzfon"
      },
      "id": "pu0IklxJzfon",
      "execution_count": null,
      "outputs": []
    },
    {
      "cell_type": "markdown",
      "id": "a4ed5fbf",
      "metadata": {
        "id": "a4ed5fbf"
      },
      "source": [
        "## Рекомендательная система"
      ]
    },
    {
      "cell_type": "markdown",
      "id": "25df70e4",
      "metadata": {
        "id": "25df70e4"
      },
      "source": [
        "Чтобы удобнее было использовать рекомендательную систему, спарсим названия компаний по их ИНН."
      ]
    },
    {
      "cell_type": "code",
      "execution_count": null,
      "id": "bf2216da",
      "metadata": {
        "id": "bf2216da",
        "outputId": "d1c99174-ab26-4190-edfa-f7488a28595d"
      },
      "outputs": [
        {
          "data": {
            "text/html": [
              "<div>\n",
              "<style scoped>\n",
              "    .dataframe tbody tr th:only-of-type {\n",
              "        vertical-align: middle;\n",
              "    }\n",
              "\n",
              "    .dataframe tbody tr th {\n",
              "        vertical-align: top;\n",
              "    }\n",
              "\n",
              "    .dataframe thead th {\n",
              "        text-align: right;\n",
              "    }\n",
              "</style>\n",
              "<table border=\"1\" class=\"dataframe\">\n",
              "  <thead>\n",
              "    <tr style=\"text-align: right;\">\n",
              "      <th></th>\n",
              "      <th>ИНН</th>\n",
              "    </tr>\n",
              "  </thead>\n",
              "  <tbody>\n",
              "    <tr>\n",
              "      <th>0</th>\n",
              "      <td>6670381056</td>\n",
              "    </tr>\n",
              "    <tr>\n",
              "      <th>1</th>\n",
              "      <td>3234013184</td>\n",
              "    </tr>\n",
              "    <tr>\n",
              "      <th>2</th>\n",
              "      <td>1644040195</td>\n",
              "    </tr>\n",
              "    <tr>\n",
              "      <th>3</th>\n",
              "      <td>2536038419</td>\n",
              "    </tr>\n",
              "    <tr>\n",
              "      <th>4</th>\n",
              "      <td>4217102358</td>\n",
              "    </tr>\n",
              "    <tr>\n",
              "      <th>...</th>\n",
              "      <td>...</td>\n",
              "    </tr>\n",
              "    <tr>\n",
              "      <th>1018</th>\n",
              "      <td>7707279342</td>\n",
              "    </tr>\n",
              "    <tr>\n",
              "      <th>1019</th>\n",
              "      <td>3128115184</td>\n",
              "    </tr>\n",
              "    <tr>\n",
              "      <th>1020</th>\n",
              "      <td>7805018099</td>\n",
              "    </tr>\n",
              "    <tr>\n",
              "      <th>1021</th>\n",
              "      <td>7709007859</td>\n",
              "    </tr>\n",
              "    <tr>\n",
              "      <th>1022</th>\n",
              "      <td>5260001277</td>\n",
              "    </tr>\n",
              "  </tbody>\n",
              "</table>\n",
              "<p>1023 rows × 1 columns</p>\n",
              "</div>"
            ],
            "text/plain": [
              "             ИНН\n",
              "0     6670381056\n",
              "1     3234013184\n",
              "2     1644040195\n",
              "3     2536038419\n",
              "4     4217102358\n",
              "...          ...\n",
              "1018  7707279342\n",
              "1019  3128115184\n",
              "1020  7805018099\n",
              "1021  7709007859\n",
              "1022  5260001277\n",
              "\n",
              "[1023 rows x 1 columns]"
            ]
          },
          "execution_count": 135,
          "metadata": {},
          "output_type": "execute_result"
        }
      ],
      "source": [
        "companies = pd.DataFrame(set(final_dataset['ИНН поставщика']) | set(final_dataset['ИНН заказчика']), columns = ['ИНН'])\n",
        "companies"
      ]
    },
    {
      "cell_type": "code",
      "execution_count": null,
      "id": "f81ce911",
      "metadata": {
        "id": "f81ce911"
      },
      "outputs": [],
      "source": [
        "def parsing_name_of_company(num_tin, df_tin):\n",
        "    url_tin = f'https://companies.rbc.ru/search/?query={num_tin}'\n",
        "    ua = UserAgent(browsers=['chrome'])\n",
        "    headers = {\"User-Agent\": ua.random}\n",
        "\n",
        "    response_tin = requests.get(url_tin, headers=headers)\n",
        "    soup = BeautifulSoup(response_tin.text, \"lxml\")\n",
        "\n",
        "    name = None\n",
        "    if soup.find(\"a\", class_=\"company-name-highlight\") != None:\n",
        "        name = soup.find(\"a\", class_=\"company-name-highlight\").text\n",
        "\n",
        "    dict_data = pd.DataFrame({'ИНН': [num_tin], 'Название компании': [name]})\n",
        "\n",
        "    df_tin = pd.concat([df_tin, dict_data], ignore_index=True)\n",
        "\n",
        "    return df_tin"
      ]
    },
    {
      "cell_type": "code",
      "execution_count": null,
      "id": "b3a3ca76",
      "metadata": {
        "id": "b3a3ca76",
        "outputId": "bfc89252-bad0-4296-edcb-8838c50cc49a"
      },
      "outputs": [
        {
          "name": "stderr",
          "output_type": "stream",
          "text": [
            "100%|██████████████████████████████████████████████████████████████████████████████| 1023/1023 [05:05<00:00,  3.35it/s]\n"
          ]
        }
      ],
      "source": [
        "df_companies = pd.DataFrame(columns=['ИНН', 'Название компании'])\n",
        "\n",
        "for num_tin in tqdm(companies['ИНН'].unique()):\n",
        "    df_companies = parsing_name_of_company(num_tin, df_companies)\n",
        "    sleep(0.0001)"
      ]
    },
    {
      "cell_type": "markdown",
      "id": "b9252970",
      "metadata": {
        "id": "b9252970"
      },
      "source": [
        "**Время**, затраченное на парсинг названий компаний: 5 мин. 5 сек."
      ]
    },
    {
      "cell_type": "code",
      "execution_count": null,
      "id": "dd0aabee",
      "metadata": {
        "id": "dd0aabee",
        "outputId": "b78d686f-2c0a-47ce-d793-6d24fa862441"
      },
      "outputs": [
        {
          "data": {
            "text/html": [
              "<div>\n",
              "<style scoped>\n",
              "    .dataframe tbody tr th:only-of-type {\n",
              "        vertical-align: middle;\n",
              "    }\n",
              "\n",
              "    .dataframe tbody tr th {\n",
              "        vertical-align: top;\n",
              "    }\n",
              "\n",
              "    .dataframe thead th {\n",
              "        text-align: right;\n",
              "    }\n",
              "</style>\n",
              "<table border=\"1\" class=\"dataframe\">\n",
              "  <thead>\n",
              "    <tr style=\"text-align: right;\">\n",
              "      <th></th>\n",
              "      <th>ИНН</th>\n",
              "      <th>Название компании</th>\n",
              "    </tr>\n",
              "  </thead>\n",
              "  <tbody>\n",
              "    <tr>\n",
              "      <th>0</th>\n",
              "      <td>6670381056</td>\n",
              "      <td>ООО \"ЕКАТЕРИНБУРГ ЯБЛОКО\"</td>\n",
              "    </tr>\n",
              "    <tr>\n",
              "      <th>1</th>\n",
              "      <td>3234013184</td>\n",
              "      <td>ГАУЗ \"БООД\"</td>\n",
              "    </tr>\n",
              "    <tr>\n",
              "      <th>2</th>\n",
              "      <td>1644040195</td>\n",
              "      <td>ООО \"ТАТНЕФТЬ-АЗС ЦЕНТР\"</td>\n",
              "    </tr>\n",
              "    <tr>\n",
              "      <th>3</th>\n",
              "      <td>2536038419</td>\n",
              "      <td>КГА ПОУ \"ЭНЕРГЕТИЧЕСКИЙ КОЛЛЕДЖ\"</td>\n",
              "    </tr>\n",
              "    <tr>\n",
              "      <th>4</th>\n",
              "      <td>4217102358</td>\n",
              "      <td>АО \"НХС\"</td>\n",
              "    </tr>\n",
              "    <tr>\n",
              "      <th>...</th>\n",
              "      <td>...</td>\n",
              "      <td>...</td>\n",
              "    </tr>\n",
              "    <tr>\n",
              "      <th>1018</th>\n",
              "      <td>7707279342</td>\n",
              "      <td>ООО \"МЕРСЕДЕС-БЕНЦ ФАЙНЕНШЛ СЕРВИСЕС РУС\"</td>\n",
              "    </tr>\n",
              "    <tr>\n",
              "      <th>1019</th>\n",
              "      <td>3128115184</td>\n",
              "      <td>МАУ ТЦ \"ТЕНХАУС\"</td>\n",
              "    </tr>\n",
              "    <tr>\n",
              "      <th>1020</th>\n",
              "      <td>7805018099</td>\n",
              "      <td>ООО \"ГАЗПРОМ ТРАНСГАЗ САНКТ-ПЕТЕРБУРГ\"</td>\n",
              "    </tr>\n",
              "    <tr>\n",
              "      <th>1021</th>\n",
              "      <td>7709007859</td>\n",
              "      <td>ФГУП \"ФТ-ЦЕНТР\"</td>\n",
              "    </tr>\n",
              "    <tr>\n",
              "      <th>1022</th>\n",
              "      <td>5260001277</td>\n",
              "      <td>ФГБОУ ВО \"НГПУ ИМ. К. МИНИНА\" , НГПУ ИМ. К. МИ...</td>\n",
              "    </tr>\n",
              "  </tbody>\n",
              "</table>\n",
              "<p>1023 rows × 2 columns</p>\n",
              "</div>"
            ],
            "text/plain": [
              "             ИНН                                  Название компании\n",
              "0     6670381056                          ООО \"ЕКАТЕРИНБУРГ ЯБЛОКО\"\n",
              "1     3234013184                                        ГАУЗ \"БООД\"\n",
              "2     1644040195                           ООО \"ТАТНЕФТЬ-АЗС ЦЕНТР\"\n",
              "3     2536038419                   КГА ПОУ \"ЭНЕРГЕТИЧЕСКИЙ КОЛЛЕДЖ\"\n",
              "4     4217102358                                           АО \"НХС\"\n",
              "...          ...                                                ...\n",
              "1018  7707279342          ООО \"МЕРСЕДЕС-БЕНЦ ФАЙНЕНШЛ СЕРВИСЕС РУС\"\n",
              "1019  3128115184                                   МАУ ТЦ \"ТЕНХАУС\"\n",
              "1020  7805018099             ООО \"ГАЗПРОМ ТРАНСГАЗ САНКТ-ПЕТЕРБУРГ\"\n",
              "1021  7709007859                                    ФГУП \"ФТ-ЦЕНТР\"\n",
              "1022  5260001277  ФГБОУ ВО \"НГПУ ИМ. К. МИНИНА\" , НГПУ ИМ. К. МИ...\n",
              "\n",
              "[1023 rows x 2 columns]"
            ]
          },
          "execution_count": 143,
          "metadata": {},
          "output_type": "execute_result"
        }
      ],
      "source": [
        "df_companies"
      ]
    },
    {
      "cell_type": "markdown",
      "id": "01eb5189",
      "metadata": {
        "id": "01eb5189"
      },
      "source": [
        "Построим функцию, принимающую на вход все параметры, которые можно добавить как фичи, но параметры, определяющие фичи исполнителей контрактов, будут по умолчанию 0, отношение к классу \"заказчик\" - единицей, а количество рекомендованных имполнителей - 1."
      ]
    },
    {
      "cell_type": "code",
      "execution_count": null,
      "id": "11694934",
      "metadata": {
        "id": "11694934"
      },
      "outputs": [],
      "source": [
        "def recommendation(price, time, okpd2, сount = 1, supplier = 0,\n",
        "                   purchaser = 1, revenue = 0, growth_rate = 0, authorized_capital=0,\n",
        "                   df_nodes = df_nodes, df_companies = df_companies):\n",
        "\n",
        "    # Создаем фичи для вершины графа\n",
        "    node_feat = np.array([authorized_capital, revenue, growth_rate,\n",
        "                          price, price, price, price, price,\n",
        "                          time, time, time, time, time,\n",
        "                          supplier, purchaser])\n",
        "\n",
        "    okpd2_f = onehotencoder.transform(pd.DataFrame(data=[okpd2]))\n",
        "    okpd2_f = pd.DataFrame(okpd2_f.toarray(), columns=onehotencoder.categories_[0])\n",
        "    node_feat = np.append(node_feat, okpd2_f)\n",
        "\n",
        "\n",
        "    node_mean=np.array(df_nodes.drop(['ИНН', 'Ребра'], axis=1).mean())\n",
        "    node_std=np.array(df_nodes.drop(['ИНН', 'Ребра'], axis=1).std())\n",
        "\n",
        "    node_feat = (node_feat - node_mean) / node_std\n",
        "    node_feat = node_feat.astype(np.float32)\n",
        "    node_feat = torch.from_numpy(node_feat)\n",
        "    node_feat = node_feat.unsqueeze(0)\n",
        "\n",
        "    # Строим граф\n",
        "    RG = nx.DiGraph()\n",
        "\n",
        "    RG.add_nodes_from(df_nodes['ИНН'])\n",
        "\n",
        "    for i in range(len(df_nodes)):\n",
        "        RG.nodes[df_nodes['ИНН'][i]]['feat'] = features[i]\n",
        "\n",
        "    rg = dgl.from_networkx(RG, node_attrs=['feat'])\n",
        "\n",
        "    rg.add_nodes(1, {'feat': node_feat})\n",
        "\n",
        "    # Добавляем новые ребра\n",
        "    new_edges = []\n",
        "\n",
        "    if supplier:\n",
        "        for i in range(rg.number_of_nodes() - 1):\n",
        "            new_edges.append((i, rg.number_of_nodes() - 1))\n",
        "\n",
        "    if purchaser:\n",
        "        for i in range(rg.number_of_nodes() - 1):\n",
        "            new_edges.append((rg.number_of_nodes() - 1, i))\n",
        "\n",
        "    new_edges = np.array(new_edges)\n",
        "    rg.add_edges(new_edges[:, 0], new_edges[:, 1])\n",
        "\n",
        "    # Применяем нашу модель\n",
        "    h = model2(rg, rg.ndata['feat'])\n",
        "    pos_score = pred2(rg, h)\n",
        "    pos_score = pos_score.detach().numpy()\n",
        "\n",
        "    сount = np.argsort(pos_score)[-сount:]\n",
        "    сount = сount[::-1]\n",
        "\n",
        "    сount_TIN = []\n",
        "    count_companies = []\n",
        "    for i in сount:\n",
        "        сount_TIN.append(df_nodes['ИНН'][i])\n",
        "        count_companies.append(df_companies['Название компании'][i])\n",
        "    print(f'Для контракта с ценой {price} руб., временем выполнения {time} дней(дня) и ОКПД2 = {okpd2} Вам рекомендованы следующие исполнители: \\n\\\n",
        "{count_companies} (ИНН: {сount_TIN})')"
      ]
    },
    {
      "cell_type": "code",
      "execution_count": null,
      "id": "b6bced37",
      "metadata": {
        "scrolled": false,
        "id": "b6bced37",
        "outputId": "7a7d6457-64fb-4d29-9780-fed7aee8b31b"
      },
      "outputs": [
        {
          "name": "stdout",
          "output_type": "stream",
          "text": [
            "Для контракта с ценой 1000000 руб., временем выполнения 3 дней(дня) и ОКПД2 = 72 Вам рекомендованы следующие исполнители: \n",
            "['ФГУП \"РОСМОРПОРТ\"'] (ИНН: [7702352454])\n"
          ]
        }
      ],
      "source": [
        "recommendation(price = 1_000_000, time = 3, okpd2 = '72')"
      ]
    },
    {
      "cell_type": "code",
      "execution_count": null,
      "id": "3569520d",
      "metadata": {
        "id": "3569520d",
        "outputId": "a7f35cc3-863d-406b-922b-f21126f8753f"
      },
      "outputs": [
        {
          "data": {
            "text/html": [
              "<div>\n",
              "<style scoped>\n",
              "    .dataframe tbody tr th:only-of-type {\n",
              "        vertical-align: middle;\n",
              "    }\n",
              "\n",
              "    .dataframe tbody tr th {\n",
              "        vertical-align: top;\n",
              "    }\n",
              "\n",
              "    .dataframe thead th {\n",
              "        text-align: right;\n",
              "    }\n",
              "</style>\n",
              "<table border=\"1\" class=\"dataframe\">\n",
              "  <thead>\n",
              "    <tr style=\"text-align: right;\">\n",
              "      <th></th>\n",
              "      <th>ИНН</th>\n",
              "      <th>Ребра</th>\n",
              "      <th>Уставной капитал</th>\n",
              "      <th>Выручка</th>\n",
              "      <th>Темп прироста %</th>\n",
              "      <th>Цена sum</th>\n",
              "      <th>Цена mean</th>\n",
              "      <th>Цена max</th>\n",
              "      <th>Цена min</th>\n",
              "      <th>Цена median</th>\n",
              "      <th>Время sum</th>\n",
              "      <th>Время mean</th>\n",
              "      <th>Время max</th>\n",
              "      <th>Время min</th>\n",
              "      <th>Время median</th>\n",
              "      <th>Поставщик</th>\n",
              "      <th>Заказчик</th>\n",
              "    </tr>\n",
              "  </thead>\n",
              "  <tbody>\n",
              "    <tr>\n",
              "      <th>141</th>\n",
              "      <td>7702352454</td>\n",
              "      <td>[]</td>\n",
              "      <td>1.212243e+11</td>\n",
              "      <td>3.442041e+10</td>\n",
              "      <td>20.7</td>\n",
              "      <td>79009409.15</td>\n",
              "      <td>4.938088e+06</td>\n",
              "      <td>29700000.0</td>\n",
              "      <td>0.11</td>\n",
              "      <td>499999.0</td>\n",
              "      <td>63.0</td>\n",
              "      <td>3.9375</td>\n",
              "      <td>71.0</td>\n",
              "      <td>-25.0</td>\n",
              "      <td>0.0</td>\n",
              "      <td>1.0</td>\n",
              "      <td>0.0</td>\n",
              "    </tr>\n",
              "  </tbody>\n",
              "</table>\n",
              "</div>"
            ],
            "text/plain": [
              "            ИНН Ребра  Уставной капитал       Выручка  Темп прироста %  \\\n",
              "141  7702352454    []      1.212243e+11  3.442041e+10             20.7   \n",
              "\n",
              "        Цена sum     Цена mean    Цена max  Цена min  Цена median  Время sum  \\\n",
              "141  79009409.15  4.938088e+06  29700000.0      0.11     499999.0       63.0   \n",
              "\n",
              "     Время mean  Время max  Время min  Время median  Поставщик  Заказчик  \n",
              "141      3.9375       71.0      -25.0           0.0        1.0       0.0  "
            ]
          },
          "execution_count": 188,
          "metadata": {},
          "output_type": "execute_result"
        }
      ],
      "source": [
        "df_nodes[df_nodes['ИНН'] == 7702352454].iloc[:, :17]"
      ]
    },
    {
      "cell_type": "code",
      "execution_count": null,
      "id": "aba2f752",
      "metadata": {
        "id": "aba2f752",
        "outputId": "39ea8665-99d3-4b1f-9d87-512145e31846"
      },
      "outputs": [
        {
          "name": "stdout",
          "output_type": "stream",
          "text": [
            "Для контракта с ценой 1000000 руб., временем выполнения 3 дней(дня) и ОКПД2 = 72 Вам рекомендованы следующие исполнители: \n",
            "['БУЗОО \"КПБ ИМ. Н.Н. СОЛОДНИКОВА\"', 'АМУ \"КДЦ \"ЮЖНЫЙ\"', 'ГБУ РО \"СП\" В АКСАЙСКОМ РАЙОНЕ'] (ИНН: [5504004973, 4703077727, 6102005111])\n"
          ]
        }
      ],
      "source": [
        "recommendation(price = 1_000_000, time = 3, okpd2 = '72', сount = 3, supplier = 1, purchaser = 0)"
      ]
    },
    {
      "cell_type": "code",
      "execution_count": null,
      "id": "24ecfdfd",
      "metadata": {
        "id": "24ecfdfd",
        "outputId": "2c9fb3a8-19e0-4c02-c80f-e243d6c91d66"
      },
      "outputs": [
        {
          "data": {
            "text/html": [
              "<div>\n",
              "<style scoped>\n",
              "    .dataframe tbody tr th:only-of-type {\n",
              "        vertical-align: middle;\n",
              "    }\n",
              "\n",
              "    .dataframe tbody tr th {\n",
              "        vertical-align: top;\n",
              "    }\n",
              "\n",
              "    .dataframe thead th {\n",
              "        text-align: right;\n",
              "    }\n",
              "</style>\n",
              "<table border=\"1\" class=\"dataframe\">\n",
              "  <thead>\n",
              "    <tr style=\"text-align: right;\">\n",
              "      <th></th>\n",
              "      <th>ИНН</th>\n",
              "      <th>Ребра</th>\n",
              "      <th>Уставной капитал</th>\n",
              "      <th>Выручка</th>\n",
              "      <th>Темп прироста %</th>\n",
              "      <th>Цена sum</th>\n",
              "      <th>Цена mean</th>\n",
              "      <th>Цена max</th>\n",
              "      <th>Цена min</th>\n",
              "      <th>Цена median</th>\n",
              "      <th>Время sum</th>\n",
              "      <th>Время mean</th>\n",
              "      <th>Время max</th>\n",
              "      <th>Время min</th>\n",
              "      <th>Время median</th>\n",
              "      <th>Поставщик</th>\n",
              "      <th>Заказчик</th>\n",
              "    </tr>\n",
              "  </thead>\n",
              "  <tbody>\n",
              "    <tr>\n",
              "      <th>213</th>\n",
              "      <td>5504004973</td>\n",
              "      <td>[7709678550]</td>\n",
              "      <td>0.0</td>\n",
              "      <td>0.0</td>\n",
              "      <td>0.0</td>\n",
              "      <td>195990.0</td>\n",
              "      <td>195990.0</td>\n",
              "      <td>195990.0</td>\n",
              "      <td>195990.0</td>\n",
              "      <td>195990.0</td>\n",
              "      <td>0.0</td>\n",
              "      <td>0.0</td>\n",
              "      <td>0.0</td>\n",
              "      <td>0.0</td>\n",
              "      <td>0.0</td>\n",
              "      <td>0.0</td>\n",
              "      <td>1.0</td>\n",
              "    </tr>\n",
              "    <tr>\n",
              "      <th>354</th>\n",
              "      <td>4703077727</td>\n",
              "      <td>[7804069580]</td>\n",
              "      <td>0.0</td>\n",
              "      <td>0.0</td>\n",
              "      <td>0.0</td>\n",
              "      <td>623023.3</td>\n",
              "      <td>623023.3</td>\n",
              "      <td>623023.3</td>\n",
              "      <td>623023.3</td>\n",
              "      <td>623023.3</td>\n",
              "      <td>0.0</td>\n",
              "      <td>0.0</td>\n",
              "      <td>0.0</td>\n",
              "      <td>0.0</td>\n",
              "      <td>0.0</td>\n",
              "      <td>0.0</td>\n",
              "      <td>1.0</td>\n",
              "    </tr>\n",
              "    <tr>\n",
              "      <th>363</th>\n",
              "      <td>6102005111</td>\n",
              "      <td>[6168002922]</td>\n",
              "      <td>0.0</td>\n",
              "      <td>0.0</td>\n",
              "      <td>0.0</td>\n",
              "      <td>822432.0</td>\n",
              "      <td>822432.0</td>\n",
              "      <td>822432.0</td>\n",
              "      <td>822432.0</td>\n",
              "      <td>822432.0</td>\n",
              "      <td>1.0</td>\n",
              "      <td>1.0</td>\n",
              "      <td>1.0</td>\n",
              "      <td>1.0</td>\n",
              "      <td>1.0</td>\n",
              "      <td>0.0</td>\n",
              "      <td>1.0</td>\n",
              "    </tr>\n",
              "  </tbody>\n",
              "</table>\n",
              "</div>"
            ],
            "text/plain": [
              "            ИНН         Ребра  Уставной капитал  Выручка  Темп прироста %  \\\n",
              "213  5504004973  [7709678550]               0.0      0.0              0.0   \n",
              "354  4703077727  [7804069580]               0.0      0.0              0.0   \n",
              "363  6102005111  [6168002922]               0.0      0.0              0.0   \n",
              "\n",
              "     Цена sum  Цена mean  Цена max  Цена min  Цена median  Время sum  \\\n",
              "213  195990.0   195990.0  195990.0  195990.0     195990.0        0.0   \n",
              "354  623023.3   623023.3  623023.3  623023.3     623023.3        0.0   \n",
              "363  822432.0   822432.0  822432.0  822432.0     822432.0        1.0   \n",
              "\n",
              "     Время mean  Время max  Время min  Время median  Поставщик  Заказчик  \n",
              "213         0.0        0.0        0.0           0.0        0.0       1.0  \n",
              "354         0.0        0.0        0.0           0.0        0.0       1.0  \n",
              "363         1.0        1.0        1.0           1.0        0.0       1.0  "
            ]
          },
          "execution_count": 180,
          "metadata": {},
          "output_type": "execute_result"
        }
      ],
      "source": [
        "df_nodes[(df_nodes['ИНН'] == 5504004973) | (df_nodes['ИНН'] == 4703077727) | (df_nodes['ИНН'] == 6102005111)].iloc[:, :17]"
      ]
    },
    {
      "cell_type": "markdown",
      "id": "861fab1d",
      "metadata": {
        "id": "861fab1d"
      },
      "source": [
        "Таким образом, мы сделали рекомендательную систему для рекомендации исполнителей с учетом цены и времени исполнения контракта."
      ]
    },
    {
      "cell_type": "code",
      "execution_count": null,
      "id": "61bf079c",
      "metadata": {
        "id": "61bf079c"
      },
      "outputs": [],
      "source": []
    },
    {
      "cell_type": "code",
      "execution_count": null,
      "id": "a53a0004",
      "metadata": {
        "id": "a53a0004"
      },
      "outputs": [],
      "source": []
    }
  ],
  "metadata": {
    "kernelspec": {
      "display_name": "Python 3 (ipykernel)",
      "language": "python",
      "name": "python3"
    },
    "language_info": {
      "codemirror_mode": {
        "name": "ipython",
        "version": 3
      },
      "file_extension": ".py",
      "mimetype": "text/x-python",
      "name": "python",
      "nbconvert_exporter": "python",
      "pygments_lexer": "ipython3",
      "version": "3.11.4"
    },
    "colab": {
      "provenance": []
    }
  },
  "nbformat": 4,
  "nbformat_minor": 5
}