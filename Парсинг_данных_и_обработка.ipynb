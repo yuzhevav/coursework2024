{
  "cells": [
    {
      "cell_type": "markdown",
      "id": "b2e90550",
      "metadata": {
        "id": "b2e90550"
      },
      "source": [
        "# Рекомендация исполнителей для выполнения контрактов на закупки с учетом бюджета и времени выполнения контракта"
      ]
    },
    {
      "cell_type": "markdown",
      "id": "89902109",
      "metadata": {
        "id": "89902109"
      },
      "source": [
        "**Цели работы:**\n",
        "1. Построить модель рекомендации исполнителей для выполнения контрактов на закупки с учетом бюджета и времени выполнения контракта\n",
        "2. Проверить качество правильного предсказания модели на тестовой выборке"
      ]
    },
    {
      "cell_type": "markdown",
      "id": "69d8d479",
      "metadata": {
        "id": "69d8d479"
      },
      "source": [
        "**Задачи работы:**\n",
        "Так как перед нами стоит задача рекомендации с помощью графовых нейронных сетей (GNN), необходимо построить ориентированный граф. Для этого нужно:\n",
        "1. Собрать данные с сайтов zakupki.kontur.ru и companies.rbc.ru\n",
        "2. Выполнить предобработку данных\n",
        "3. Построить ориентированный граф\n",
        "4. Разделить исходный набор данных на тестовую и обучающую выборки\n",
        "5. Построить модель link prediction\n",
        "6. Обучить модель на данных обучающей выборки\n",
        "7. Оценить качество модели с помощью тестовой выборки\n",
        "8. Создать рекомендательную систему\n",
        "9. Сделать выводы"
      ]
    },
    {
      "cell_type": "markdown",
      "id": "601ef5df",
      "metadata": {
        "id": "601ef5df"
      },
      "source": [
        "**Ожидаемый результат:** \\\n",
        "Модель, которая может с высокой вероятностью рекомендовать исполнителя для выполнения контракта"
      ]
    },
    {
      "cell_type": "markdown",
      "id": "53508f55",
      "metadata": {
        "id": "53508f55"
      },
      "source": [
        "Импортируем все необходимые библиотеки"
      ]
    },
    {
      "cell_type": "code",
      "execution_count": null,
      "id": "7385b7eb",
      "metadata": {
        "id": "7385b7eb"
      },
      "outputs": [],
      "source": [
        "import requests\n",
        "from bs4 import BeautifulSoup\n",
        "import re\n",
        "import pandas as pd\n",
        "import os\n",
        "from time import sleep\n",
        "from tqdm import tqdm\n",
        "from fake_useragent import UserAgent\n",
        "import numpy as np\n",
        "import matplotlib.pyplot as plt\n",
        "import seaborn as sns\n",
        "import networkx as nx\n",
        "import dgl\n",
        "import torch\n",
        "import torch.nn as nn\n",
        "import itertools\n",
        "import torch.nn.functional as F\n",
        "from sklearn.preprocessing import StandardScaler\n",
        "from dgl.nn import SAGEConv\n",
        "import dgl.function as fn\n",
        "from sklearn.metrics import roc_auc_score\n",
        "from sklearn.metrics import roc_curve\n",
        "from sklearn.metrics import f1_score\n",
        "from sklearn.preprocessing import OneHotEncoder"
      ]
    },
    {
      "cell_type": "markdown",
      "id": "29d3edaa",
      "metadata": {
        "id": "29d3edaa"
      },
      "source": [
        "## Сбор данных"
      ]
    },
    {
      "cell_type": "markdown",
      "id": "5ab96109",
      "metadata": {
        "id": "5ab96109"
      },
      "source": [
        "В первую очередь соберем из названий файлов ИНН поставщиков и номера контрактов."
      ]
    },
    {
      "cell_type": "code",
      "execution_count": null,
      "id": "90ce5430",
      "metadata": {
        "id": "90ce5430"
      },
      "outputs": [],
      "source": [
        "files1 = os.listdir('D:/Курсовая работа/data/протоколы_ГосЗакупки')\n",
        "files2 = os.listdir('D:/Курсовая работа/data/протоколы_ГосЗакупки_2')\n",
        "files = files1 + files2"
      ]
    },
    {
      "cell_type": "code",
      "execution_count": null,
      "id": "ddeaf859",
      "metadata": {
        "id": "ddeaf859"
      },
      "outputs": [],
      "source": [
        "tin_number = [re.findall(r'\\d+_\\d+', file)[0] for file in files if len(re.findall(r'\\d+_\\d+', file)) > 0]\n",
        "tin = [int(re.findall(r'\\d+', i)[0]) for i in tin_number]\n",
        "num = [int(re.findall(r'\\d+', i)[1]) for i in tin_number]"
      ]
    },
    {
      "cell_type": "code",
      "execution_count": null,
      "id": "dcecb5a9",
      "metadata": {
        "id": "dcecb5a9"
      },
      "outputs": [],
      "source": [
        "dict_tin_num = {'ИНН поставщика': tin, 'Номер закупки': num}\n",
        "contract_df = pd.DataFrame(data = dict_tin_num)"
      ]
    },
    {
      "cell_type": "code",
      "execution_count": null,
      "id": "d1fc0ff1",
      "metadata": {
        "id": "d1fc0ff1"
      },
      "outputs": [],
      "source": [
        "contract_df = contract_df[contract_df['ИНН поставщика'].astype(str).str.len() > 9]"
      ]
    },
    {
      "cell_type": "code",
      "execution_count": null,
      "id": "9724d0a0",
      "metadata": {
        "id": "9724d0a0"
      },
      "outputs": [],
      "source": [
        "contract_df = contract_df.drop_duplicates()"
      ]
    },
    {
      "cell_type": "code",
      "execution_count": null,
      "id": "bbaa6942",
      "metadata": {
        "id": "bbaa6942",
        "outputId": "713ffb71-4c08-4edc-8674-a415b00a9434"
      },
      "outputs": [
        {
          "data": {
            "text/html": [
              "<div>\n",
              "<style scoped>\n",
              "    .dataframe tbody tr th:only-of-type {\n",
              "        vertical-align: middle;\n",
              "    }\n",
              "\n",
              "    .dataframe tbody tr th {\n",
              "        vertical-align: top;\n",
              "    }\n",
              "\n",
              "    .dataframe thead th {\n",
              "        text-align: right;\n",
              "    }\n",
              "</style>\n",
              "<table border=\"1\" class=\"dataframe\">\n",
              "  <thead>\n",
              "    <tr style=\"text-align: right;\">\n",
              "      <th></th>\n",
              "      <th>ИНН поставщика</th>\n",
              "      <th>Номер закупки</th>\n",
              "    </tr>\n",
              "  </thead>\n",
              "  <tbody>\n",
              "    <tr>\n",
              "      <th>0</th>\n",
              "      <td>1106014140</td>\n",
              "      <td>32110960997</td>\n",
              "    </tr>\n",
              "    <tr>\n",
              "      <th>1</th>\n",
              "      <td>1433000147</td>\n",
              "      <td>32009437716</td>\n",
              "    </tr>\n",
              "    <tr>\n",
              "      <th>2</th>\n",
              "      <td>1434031363</td>\n",
              "      <td>32110980912</td>\n",
              "    </tr>\n",
              "    <tr>\n",
              "      <th>3</th>\n",
              "      <td>1435028701</td>\n",
              "      <td>32111010570</td>\n",
              "    </tr>\n",
              "    <tr>\n",
              "      <th>4</th>\n",
              "      <td>1435028701</td>\n",
              "      <td>32211077961</td>\n",
              "    </tr>\n",
              "    <tr>\n",
              "      <th>...</th>\n",
              "      <td>...</td>\n",
              "      <td>...</td>\n",
              "    </tr>\n",
              "    <tr>\n",
              "      <th>3381</th>\n",
              "      <td>7805018099</td>\n",
              "      <td>32009797834</td>\n",
              "    </tr>\n",
              "    <tr>\n",
              "      <th>3382</th>\n",
              "      <td>7805018099</td>\n",
              "      <td>32009797925</td>\n",
              "    </tr>\n",
              "    <tr>\n",
              "      <th>3383</th>\n",
              "      <td>7805018099</td>\n",
              "      <td>32111000521</td>\n",
              "    </tr>\n",
              "    <tr>\n",
              "      <th>3384</th>\n",
              "      <td>7805018099</td>\n",
              "      <td>32111000659</td>\n",
              "    </tr>\n",
              "    <tr>\n",
              "      <th>3386</th>\n",
              "      <td>7813252159</td>\n",
              "      <td>32211890869</td>\n",
              "    </tr>\n",
              "  </tbody>\n",
              "</table>\n",
              "<p>2052 rows × 2 columns</p>\n",
              "</div>"
            ],
            "text/plain": [
              "      ИНН поставщика  Номер закупки\n",
              "0         1106014140    32110960997\n",
              "1         1433000147    32009437716\n",
              "2         1434031363    32110980912\n",
              "3         1435028701    32111010570\n",
              "4         1435028701    32211077961\n",
              "...              ...            ...\n",
              "3381      7805018099    32009797834\n",
              "3382      7805018099    32009797925\n",
              "3383      7805018099    32111000521\n",
              "3384      7805018099    32111000659\n",
              "3386      7813252159    32211890869\n",
              "\n",
              "[2052 rows x 2 columns]"
            ]
          },
          "execution_count": 24,
          "metadata": {},
          "output_type": "execute_result"
        }
      ],
      "source": [
        "contract_df"
      ]
    },
    {
      "cell_type": "markdown",
      "id": "511dbe65",
      "metadata": {
        "id": "511dbe65"
      },
      "source": [
        "## Парсинг РБК по ИНН поставщика"
      ]
    },
    {
      "cell_type": "markdown",
      "id": "2ca7167d",
      "metadata": {
        "id": "2ca7167d"
      },
      "source": [
        "Нам понадобятся такие данные о поставщике, как уставной капитал, выручка и темп прироста. Соберем их с сайта companies.rbc.ru"
      ]
    },
    {
      "cell_type": "code",
      "execution_count": null,
      "id": "1572182e",
      "metadata": {
        "id": "1572182e"
      },
      "outputs": [],
      "source": [
        "ua = UserAgent(browsers=['chrome'])"
      ]
    },
    {
      "cell_type": "code",
      "execution_count": null,
      "id": "3e5d0bc3",
      "metadata": {
        "id": "3e5d0bc3"
      },
      "outputs": [],
      "source": [
        "def parsing_tin_rbk(num_tin, df_tin):\n",
        "    url_tin = f'https://companies.rbc.ru/search/?query={num_tin}'\n",
        "    ua = UserAgent(browsers=['chrome'])\n",
        "    headers = {\"User-Agent\": ua.random}\n",
        "\n",
        "    response_tin = requests.get(url_tin, headers=headers)\n",
        "    soup = BeautifulSoup(response_tin.text, \"lxml\")\n",
        "\n",
        "    # Уставной капитал поставщика\n",
        "    authorized_capital = soup.find(\"div\", class_=\"company-card__block\")\n",
        "    authorized_capital = authorized_capital.find_all(\"p\", class_=\"company-card__info\")[1].text\n",
        "    authorized_capital = re.findall(r'\\d+', authorized_capital)\n",
        "\n",
        "    if authorized_capital != []:\n",
        "        authorized_capital[-2] = authorized_capital[-2]+'.'+authorized_capital[-1]\n",
        "        authorized_capital = authorized_capital[:-1]\n",
        "        authorized_capital = float(\"\".join(authorized_capital))\n",
        "    else:\n",
        "        authorized_capital = None\n",
        "\n",
        "    # Выручка\n",
        "    revenue = soup.find_all(\"p\", class_=\"company-card__info\")[-2].text\n",
        "    revenue = re.findall(r'\\d+', revenue)\n",
        "\n",
        "    if revenue != []:\n",
        "        revenue[-2] = revenue[-2]+'.'+revenue[-1]\n",
        "        revenue = revenue[:-1]\n",
        "        revenue = float(\"\".join(revenue))\n",
        "    else:\n",
        "        revenue = None\n",
        "\n",
        "    # Темп прироста (выручки)\n",
        "    growth_rate = soup.find_all(\"p\", class_=\"company-card__info\")[-1].text\n",
        "    growth_rate = re.findall(r'\\d+', growth_rate)\n",
        "\n",
        "    if growth_rate != []:\n",
        "        growth_rate = growth_rate[0]+'.'+growth_rate[1]\n",
        "        growth_rate = float(growth_rate)\n",
        "    else:\n",
        "        growth_rate = None\n",
        "\n",
        "\n",
        "    dict_data = {'ИНН поставщика': [num_tin], 'Уставной капитал': [authorized_capital], 'Выручка': [revenue],\n",
        "                 'Темп прироста %': [growth_rate]}\n",
        "\n",
        "    dict_data = pd.DataFrame(dict_data)\n",
        "\n",
        "    df_tin = pd.concat([df_tin, dict_data], ignore_index=True)\n",
        "\n",
        "    return df_tin"
      ]
    },
    {
      "cell_type": "code",
      "execution_count": null,
      "id": "d35055a1",
      "metadata": {
        "id": "d35055a1",
        "outputId": "7b2a5edb-09cf-4eca-a928-d02e46caa5a6"
      },
      "outputs": [
        {
          "name": "stderr",
          "output_type": "stream",
          "text": [
            "100%|████████████████████████████████████████████████████████████████████████████████| 317/317 [01:40<00:00,  3.15it/s]\n"
          ]
        }
      ],
      "source": [
        "df_tin = pd.DataFrame(columns=['ИНН поставщика', 'Уставной капитал', 'Выручка', 'Темп прироста %'])\n",
        "\n",
        "for num_tin in tqdm(contract_df['ИНН поставщика'].unique()):\n",
        "    df_tin = parsing_tin_rbk(num_tin, df_tin)\n",
        "    sleep(0.001)"
      ]
    },
    {
      "cell_type": "markdown",
      "id": "6f07777c",
      "metadata": {
        "id": "6f07777c"
      },
      "source": [
        "**Время**, затраченное на сбор информации с сайта РБК: 1 мин. 40 сек."
      ]
    },
    {
      "cell_type": "markdown",
      "id": "2de9de91",
      "metadata": {
        "id": "2de9de91"
      },
      "source": [
        "Сравним количество строк в датафрейме с фичами для исполнителей с исходным датафреймом:"
      ]
    },
    {
      "cell_type": "code",
      "execution_count": null,
      "id": "a59f73c9",
      "metadata": {
        "id": "a59f73c9",
        "outputId": "025c5f5b-8ac8-4e7d-e67c-ed2cf7244e2f"
      },
      "outputs": [
        {
          "data": {
            "text/html": [
              "<div>\n",
              "<style scoped>\n",
              "    .dataframe tbody tr th:only-of-type {\n",
              "        vertical-align: middle;\n",
              "    }\n",
              "\n",
              "    .dataframe tbody tr th {\n",
              "        vertical-align: top;\n",
              "    }\n",
              "\n",
              "    .dataframe thead th {\n",
              "        text-align: right;\n",
              "    }\n",
              "</style>\n",
              "<table border=\"1\" class=\"dataframe\">\n",
              "  <thead>\n",
              "    <tr style=\"text-align: right;\">\n",
              "      <th></th>\n",
              "      <th>ИНН поставщика</th>\n",
              "      <th>Уставной капитал</th>\n",
              "      <th>Выручка</th>\n",
              "      <th>Темп прироста %</th>\n",
              "    </tr>\n",
              "  </thead>\n",
              "  <tbody>\n",
              "    <tr>\n",
              "      <th>0</th>\n",
              "      <td>1106014140</td>\n",
              "      <td>5.758304e+09</td>\n",
              "      <td>4.989540e+11</td>\n",
              "      <td>91.49</td>\n",
              "    </tr>\n",
              "    <tr>\n",
              "      <th>1</th>\n",
              "      <td>1433000147</td>\n",
              "      <td>3.682483e+09</td>\n",
              "      <td>2.617680e+11</td>\n",
              "      <td>81.11</td>\n",
              "    </tr>\n",
              "    <tr>\n",
              "      <th>2</th>\n",
              "      <td>1434031363</td>\n",
              "      <td>8.616038e+10</td>\n",
              "      <td>8.017448e+10</td>\n",
              "      <td>3.58</td>\n",
              "    </tr>\n",
              "    <tr>\n",
              "      <th>3</th>\n",
              "      <td>1435028701</td>\n",
              "      <td>2.063756e+10</td>\n",
              "      <td>3.257850e+10</td>\n",
              "      <td>6.17</td>\n",
              "    </tr>\n",
              "    <tr>\n",
              "      <th>4</th>\n",
              "      <td>1435152770</td>\n",
              "      <td>2.112380e+09</td>\n",
              "      <td>3.242493e+10</td>\n",
              "      <td>41.50</td>\n",
              "    </tr>\n",
              "    <tr>\n",
              "      <th>...</th>\n",
              "      <td>...</td>\n",
              "      <td>...</td>\n",
              "      <td>...</td>\n",
              "      <td>...</td>\n",
              "    </tr>\n",
              "    <tr>\n",
              "      <th>312</th>\n",
              "      <td>7734135124</td>\n",
              "      <td>1.582867e+10</td>\n",
              "      <td>5.151016e+10</td>\n",
              "      <td>36.40</td>\n",
              "    </tr>\n",
              "    <tr>\n",
              "      <th>313</th>\n",
              "      <td>7736655834</td>\n",
              "      <td>3.000000e+05</td>\n",
              "      <td>3.625644e+10</td>\n",
              "      <td>NaN</td>\n",
              "    </tr>\n",
              "    <tr>\n",
              "      <th>314</th>\n",
              "      <td>7804069580</td>\n",
              "      <td>1.000000e+05</td>\n",
              "      <td>4.091390e+10</td>\n",
              "      <td>8.94</td>\n",
              "    </tr>\n",
              "    <tr>\n",
              "      <th>315</th>\n",
              "      <td>7805018099</td>\n",
              "      <td>2.073606e+10</td>\n",
              "      <td>8.188798e+10</td>\n",
              "      <td>1.87</td>\n",
              "    </tr>\n",
              "    <tr>\n",
              "      <th>316</th>\n",
              "      <td>7813252159</td>\n",
              "      <td>4.421386e+10</td>\n",
              "      <td>4.725344e+10</td>\n",
              "      <td>3.02</td>\n",
              "    </tr>\n",
              "  </tbody>\n",
              "</table>\n",
              "<p>317 rows × 4 columns</p>\n",
              "</div>"
            ],
            "text/plain": [
              "    ИНН поставщика  Уставной капитал       Выручка  Темп прироста %\n",
              "0       1106014140      5.758304e+09  4.989540e+11            91.49\n",
              "1       1433000147      3.682483e+09  2.617680e+11            81.11\n",
              "2       1434031363      8.616038e+10  8.017448e+10             3.58\n",
              "3       1435028701      2.063756e+10  3.257850e+10             6.17\n",
              "4       1435152770      2.112380e+09  3.242493e+10            41.50\n",
              "..             ...               ...           ...              ...\n",
              "312     7734135124      1.582867e+10  5.151016e+10            36.40\n",
              "313     7736655834      3.000000e+05  3.625644e+10              NaN\n",
              "314     7804069580      1.000000e+05  4.091390e+10             8.94\n",
              "315     7805018099      2.073606e+10  8.188798e+10             1.87\n",
              "316     7813252159      4.421386e+10  4.725344e+10             3.02\n",
              "\n",
              "[317 rows x 4 columns]"
            ]
          },
          "execution_count": 30,
          "metadata": {},
          "output_type": "execute_result"
        }
      ],
      "source": [
        "df_tin"
      ]
    },
    {
      "cell_type": "code",
      "execution_count": null,
      "id": "6ec0282e",
      "metadata": {
        "id": "6ec0282e",
        "outputId": "19ff8e95-3312-4dd3-e325-b8a1ec638270"
      },
      "outputs": [
        {
          "data": {
            "text/plain": [
              "317"
            ]
          },
          "execution_count": 31,
          "metadata": {},
          "output_type": "execute_result"
        }
      ],
      "source": [
        "contract_df['ИНН поставщика'].nunique()"
      ]
    },
    {
      "cell_type": "markdown",
      "id": "c936faa6",
      "metadata": {
        "id": "c936faa6"
      },
      "source": [
        "Количество строк совпадает."
      ]
    },
    {
      "cell_type": "markdown",
      "id": "3a501414",
      "metadata": {
        "id": "3a501414"
      },
      "source": [
        "## Парсинг сайта zakupki.kontur.ru по номеру контракта"
      ]
    },
    {
      "cell_type": "markdown",
      "id": "1c33ecb7",
      "metadata": {
        "id": "1c33ecb7"
      },
      "source": [
        "Также нам необходима информация по контракту. Исходя из темы, получим цену контракта и время его выполнения. Для построения графа нужно собрать ИНН заказчиков."
      ]
    },
    {
      "cell_type": "code",
      "execution_count": null,
      "id": "8fed216a",
      "metadata": {
        "id": "8fed216a"
      },
      "outputs": [],
      "source": [
        "def parsing_zakupki_kontur(num_contract, df):\n",
        "    url_p = f'https://zakupki.kontur.ru/{num_contract}'\n",
        "    headers = {\"User-Agent\": ua.random}\n",
        "    response_p = requests.get(url_p, headers=headers)\n",
        "    soup_p = BeautifulSoup(response_p.text, \"lxml\")\n",
        "\n",
        "    # Цена контракта\n",
        "    price = soup_p.find(\"div\", class_=\"tender-named-values_value\").text\n",
        "    price = re.findall(r'\\d+', price)\n",
        "\n",
        "    if price != []:\n",
        "        price[-2] = price[-2]+'.'+price[-1]\n",
        "        price = price[:-1]\n",
        "        price = float(\"\".join(price))\n",
        "    else:\n",
        "        price = None\n",
        "\n",
        "    # Дата размещения объявления\n",
        "    date_start = soup_p.find(\"div\", class_=\"purchase-description__publication-info\").text\n",
        "    date_start = re.findall(r'\\d\\d.\\d\\d.\\d{4}', date_start)[0]\n",
        "\n",
        "    # Дата размещения результатов\n",
        "    dates_end = soup_p.find_all(\"div\", class_=\"tender-block__title\")\n",
        "    date_end = None\n",
        "    for i in dates_end:\n",
        "        if i.find(\"span\", class_=\"tender-block__title-info\") != None:\n",
        "            date_end = i.find(\"span\", class_=\"tender-block__title-info\").text\n",
        "            date_end = re.findall(r'\\d\\d.\\d\\d.\\d{4}', date_end)[0]\n",
        "\n",
        "    # класс ОКПД2\n",
        "    okpd2 = None\n",
        "    okved2 = None\n",
        "    okpd2_okved2 = soup_p.find_all(\"div\", class_=\"purchase-page__block tender-block\")\n",
        "    for i in okpd2_okved2:\n",
        "        if i.find_all(\"p\", class_=\"t-grey\") != []:\n",
        "            okpd2 = i.find_all(\"p\", class_=\"t-grey\")[0].text.split('.')[0]\n",
        "\n",
        "    # ИНН заказчика\n",
        "    if soup_p.find_all(\"div\", class_=\"purchase-page__block tender-block tender-block_multi-lot\") == []:\n",
        "        inn_kpp = soup_p.find_all(\"div\", class_=\"purchase-page__block tender-block\")[1]\n",
        "        inn_kpp = inn_kpp.find(\"div\", class_=\"tender-named-values_value\").text\n",
        "        inn_p = re.findall(r'\\d+', inn_kpp)[0]\n",
        "\n",
        "    else:\n",
        "        inn_kpp = soup_p.find_all(\"div\", class_=\"purchase-page__block tender-block\")[2]\n",
        "        inn_kpp = inn_kpp.find(\"div\", class_=\"tender-named-values_value\").text\n",
        "        inn_p = re.findall(r'\\d+', inn_kpp)[0]\n",
        "\n",
        "\n",
        "    dict_data = {'Номер закупки': [num_contract], 'ИНН заказчика': [inn_p], 'ОКПД2': [okpd2],\n",
        "                 'Дата размещения': [date_start], 'Дата окончания': [date_end], 'Цена': [price]}\n",
        "\n",
        "    dict_data = pd.DataFrame(dict_data)\n",
        "\n",
        "    df = pd.concat([df, dict_data], ignore_index=True)\n",
        "\n",
        "    return df"
      ]
    },
    {
      "cell_type": "code",
      "execution_count": null,
      "id": "4477c041",
      "metadata": {
        "id": "4477c041",
        "outputId": "7e4103c2-0324-4d01-9576-828edc3fea30"
      },
      "outputs": [
        {
          "name": "stderr",
          "output_type": "stream",
          "text": [
            "100%|██████████████████████████████████████████████████████████████████████████████| 2012/2012 [06:46<00:00,  4.95it/s]\n"
          ]
        }
      ],
      "source": [
        "df = pd.DataFrame(columns=['Номер закупки', 'ИНН заказчика', 'ОКПД2',\n",
        "                           'Дата размещения', 'Дата окончания', 'Цена'])\n",
        "\n",
        "for num_contract in tqdm(contract_df['Номер закупки'].unique()):\n",
        "    df = parsing_zakupki_kontur(num_contract, df)"
      ]
    },
    {
      "cell_type": "markdown",
      "id": "58eed59e",
      "metadata": {
        "id": "58eed59e"
      },
      "source": [
        "**Время**, затраченное на сбор информации с сайта с закупками: 6 мин. 46 сек."
      ]
    },
    {
      "cell_type": "markdown",
      "id": "11b959f8",
      "metadata": {
        "id": "11b959f8"
      },
      "source": [
        "Чтобы получить время выполнения контракта (в днях), преобразуем колонки с датами в формат datetime64."
      ]
    },
    {
      "cell_type": "code",
      "execution_count": null,
      "id": "dba4a393",
      "metadata": {
        "id": "dba4a393"
      },
      "outputs": [],
      "source": [
        "df['Дата размещения'] = pd.to_datetime(df['Дата размещения'])\n",
        "df['Дата окончания'] = pd.to_datetime(df['Дата окончания'])"
      ]
    },
    {
      "cell_type": "code",
      "execution_count": null,
      "id": "2f851b1b",
      "metadata": {
        "id": "2f851b1b",
        "outputId": "309d764c-56e9-4f6e-c96c-1a9383627f02"
      },
      "outputs": [
        {
          "name": "stdout",
          "output_type": "stream",
          "text": [
            "<class 'pandas.core.frame.DataFrame'>\n",
            "RangeIndex: 2012 entries, 0 to 2011\n",
            "Data columns (total 6 columns):\n",
            " #   Column           Non-Null Count  Dtype         \n",
            "---  ------           --------------  -----         \n",
            " 0   Номер закупки    2012 non-null   object        \n",
            " 1   ИНН заказчика    2012 non-null   object        \n",
            " 2   ОКПД2            2011 non-null   object        \n",
            " 3   Дата размещения  2012 non-null   datetime64[ns]\n",
            " 4   Дата окончания   2005 non-null   datetime64[ns]\n",
            " 5   Цена             1992 non-null   float64       \n",
            "dtypes: datetime64[ns](2), float64(1), object(3)\n",
            "memory usage: 94.4+ KB\n"
          ]
        }
      ],
      "source": [
        "df.info()"
      ]
    },
    {
      "cell_type": "code",
      "execution_count": null,
      "id": "503570c2",
      "metadata": {
        "id": "503570c2",
        "outputId": "cdcc58e0-c77f-49bb-bb07-68d557b62b74"
      },
      "outputs": [
        {
          "data": {
            "text/html": [
              "<div>\n",
              "<style scoped>\n",
              "    .dataframe tbody tr th:only-of-type {\n",
              "        vertical-align: middle;\n",
              "    }\n",
              "\n",
              "    .dataframe tbody tr th {\n",
              "        vertical-align: top;\n",
              "    }\n",
              "\n",
              "    .dataframe thead th {\n",
              "        text-align: right;\n",
              "    }\n",
              "</style>\n",
              "<table border=\"1\" class=\"dataframe\">\n",
              "  <thead>\n",
              "    <tr style=\"text-align: right;\">\n",
              "      <th></th>\n",
              "      <th>Номер закупки</th>\n",
              "      <th>ИНН заказчика</th>\n",
              "      <th>ОКПД2</th>\n",
              "      <th>Цена</th>\n",
              "      <th>Время выполнения</th>\n",
              "    </tr>\n",
              "  </thead>\n",
              "  <tbody>\n",
              "    <tr>\n",
              "      <th>0</th>\n",
              "      <td>32110960997</td>\n",
              "      <td>1106024691</td>\n",
              "      <td>06</td>\n",
              "      <td>3.017975e+08</td>\n",
              "      <td>0.0</td>\n",
              "    </tr>\n",
              "    <tr>\n",
              "      <th>1</th>\n",
              "      <td>32009437716</td>\n",
              "      <td>1435326056</td>\n",
              "      <td>19</td>\n",
              "      <td>4.775860e+08</td>\n",
              "      <td>29.0</td>\n",
              "    </tr>\n",
              "    <tr>\n",
              "      <th>2</th>\n",
              "      <td>32110980912</td>\n",
              "      <td>2536038419</td>\n",
              "      <td>35</td>\n",
              "      <td>6.000000e+06</td>\n",
              "      <td>4.0</td>\n",
              "    </tr>\n",
              "    <tr>\n",
              "      <th>3</th>\n",
              "      <td>32111010570</td>\n",
              "      <td>1435142972</td>\n",
              "      <td>33</td>\n",
              "      <td>2.408280e+05</td>\n",
              "      <td>0.0</td>\n",
              "    </tr>\n",
              "    <tr>\n",
              "      <th>4</th>\n",
              "      <td>32211077961</td>\n",
              "      <td>1435205823</td>\n",
              "      <td>35</td>\n",
              "      <td>1.181590e+07</td>\n",
              "      <td>0.0</td>\n",
              "    </tr>\n",
              "  </tbody>\n",
              "</table>\n",
              "</div>"
            ],
            "text/plain": [
              "  Номер закупки ИНН заказчика ОКПД2          Цена  Время выполнения\n",
              "0   32110960997    1106024691    06  3.017975e+08               0.0\n",
              "1   32009437716    1435326056    19  4.775860e+08              29.0\n",
              "2   32110980912    2536038419    35  6.000000e+06               4.0\n",
              "3   32111010570    1435142972    33  2.408280e+05               0.0\n",
              "4   32211077961    1435205823    35  1.181590e+07               0.0"
            ]
          },
          "execution_count": 37,
          "metadata": {},
          "output_type": "execute_result"
        }
      ],
      "source": [
        "df['Время выполнения'] = (df['Дата окончания'] - df['Дата размещения']) / np.timedelta64 ( 1 , 'D')\n",
        "df = df.drop(['Дата размещения', 'Дата окончания'], axis=1)\n",
        "df.head()"
      ]
    },
    {
      "cell_type": "markdown",
      "id": "a1a73013",
      "metadata": {
        "id": "a1a73013"
      },
      "source": [
        "Соеденим два полученых датасета в один так, чтобы каждая строка нового датасета предоставляла информацию для конкретного контракта. Описание полученного датасета:\n",
        "1. ИНН поставщика\n",
        "2. Уставной капитал - уставной капитал исполнителя (руб.)\n",
        "3. Выручка - выручка исполнителя (руб.)\n",
        "4. Темп прироста % - темп прироста выручки (%)\n",
        "5. Номер закупки (номер контракта)\n",
        "6. ИНН заказчика\n",
        "7. ОКПД2 - \"Общероссийский Классификатор Продукции по видам экономической Деятельности\"\n",
        "8. Цена - цена контракта (руб.)\n",
        "9. Время выполнения - время выполнение контракта (в днях)"
      ]
    },
    {
      "cell_type": "code",
      "execution_count": null,
      "id": "dbc2ede6",
      "metadata": {
        "id": "dbc2ede6",
        "outputId": "8523cdff-98c4-4a5f-f345-57273baa5287"
      },
      "outputs": [
        {
          "data": {
            "text/html": [
              "<div>\n",
              "<style scoped>\n",
              "    .dataframe tbody tr th:only-of-type {\n",
              "        vertical-align: middle;\n",
              "    }\n",
              "\n",
              "    .dataframe tbody tr th {\n",
              "        vertical-align: top;\n",
              "    }\n",
              "\n",
              "    .dataframe thead th {\n",
              "        text-align: right;\n",
              "    }\n",
              "</style>\n",
              "<table border=\"1\" class=\"dataframe\">\n",
              "  <thead>\n",
              "    <tr style=\"text-align: right;\">\n",
              "      <th></th>\n",
              "      <th>ИНН поставщика</th>\n",
              "      <th>Уставной капитал</th>\n",
              "      <th>Выручка</th>\n",
              "      <th>Темп прироста %</th>\n",
              "      <th>Номер закупки</th>\n",
              "      <th>ИНН заказчика</th>\n",
              "      <th>ОКПД2</th>\n",
              "      <th>Цена</th>\n",
              "      <th>Время выполнения</th>\n",
              "    </tr>\n",
              "  </thead>\n",
              "  <tbody>\n",
              "    <tr>\n",
              "      <th>0</th>\n",
              "      <td>1106014140</td>\n",
              "      <td>5.758304e+09</td>\n",
              "      <td>4.989540e+11</td>\n",
              "      <td>91.49</td>\n",
              "      <td>32110960997</td>\n",
              "      <td>1106024691</td>\n",
              "      <td>06</td>\n",
              "      <td>3.017975e+08</td>\n",
              "      <td>0.0</td>\n",
              "    </tr>\n",
              "    <tr>\n",
              "      <th>1</th>\n",
              "      <td>1433000147</td>\n",
              "      <td>3.682483e+09</td>\n",
              "      <td>2.617680e+11</td>\n",
              "      <td>81.11</td>\n",
              "      <td>32009437716</td>\n",
              "      <td>1435326056</td>\n",
              "      <td>19</td>\n",
              "      <td>4.775860e+08</td>\n",
              "      <td>29.0</td>\n",
              "    </tr>\n",
              "    <tr>\n",
              "      <th>2</th>\n",
              "      <td>1434031363</td>\n",
              "      <td>8.616038e+10</td>\n",
              "      <td>8.017448e+10</td>\n",
              "      <td>3.58</td>\n",
              "      <td>32110980912</td>\n",
              "      <td>2536038419</td>\n",
              "      <td>35</td>\n",
              "      <td>6.000000e+06</td>\n",
              "      <td>4.0</td>\n",
              "    </tr>\n",
              "    <tr>\n",
              "      <th>3</th>\n",
              "      <td>1434031363</td>\n",
              "      <td>8.616038e+10</td>\n",
              "      <td>8.017448e+10</td>\n",
              "      <td>3.58</td>\n",
              "      <td>32110981250</td>\n",
              "      <td>2706015700</td>\n",
              "      <td>35</td>\n",
              "      <td>8.171000e+05</td>\n",
              "      <td>0.0</td>\n",
              "    </tr>\n",
              "    <tr>\n",
              "      <th>4</th>\n",
              "      <td>1434031363</td>\n",
              "      <td>8.616038e+10</td>\n",
              "      <td>8.017448e+10</td>\n",
              "      <td>3.58</td>\n",
              "      <td>32111002641</td>\n",
              "      <td>2706028690</td>\n",
              "      <td>35</td>\n",
              "      <td>1.451776e+05</td>\n",
              "      <td>0.0</td>\n",
              "    </tr>\n",
              "    <tr>\n",
              "      <th>...</th>\n",
              "      <td>...</td>\n",
              "      <td>...</td>\n",
              "      <td>...</td>\n",
              "      <td>...</td>\n",
              "      <td>...</td>\n",
              "      <td>...</td>\n",
              "      <td>...</td>\n",
              "      <td>...</td>\n",
              "      <td>...</td>\n",
              "    </tr>\n",
              "    <tr>\n",
              "      <th>2047</th>\n",
              "      <td>7805018099</td>\n",
              "      <td>2.073606e+10</td>\n",
              "      <td>8.188798e+10</td>\n",
              "      <td>1.87</td>\n",
              "      <td>32009797834</td>\n",
              "      <td>6950152108</td>\n",
              "      <td>49</td>\n",
              "      <td>3.000000e+06</td>\n",
              "      <td>36.0</td>\n",
              "    </tr>\n",
              "    <tr>\n",
              "      <th>2048</th>\n",
              "      <td>7805018099</td>\n",
              "      <td>2.073606e+10</td>\n",
              "      <td>8.188798e+10</td>\n",
              "      <td>1.87</td>\n",
              "      <td>32009797925</td>\n",
              "      <td>6950152108</td>\n",
              "      <td>49</td>\n",
              "      <td>1.400000e+07</td>\n",
              "      <td>38.0</td>\n",
              "    </tr>\n",
              "    <tr>\n",
              "      <th>2049</th>\n",
              "      <td>7805018099</td>\n",
              "      <td>2.073606e+10</td>\n",
              "      <td>8.188798e+10</td>\n",
              "      <td>1.87</td>\n",
              "      <td>32111000521</td>\n",
              "      <td>6950152108</td>\n",
              "      <td>49</td>\n",
              "      <td>1.377490e+07</td>\n",
              "      <td>1.0</td>\n",
              "    </tr>\n",
              "    <tr>\n",
              "      <th>2050</th>\n",
              "      <td>7805018099</td>\n",
              "      <td>2.073606e+10</td>\n",
              "      <td>8.188798e+10</td>\n",
              "      <td>1.87</td>\n",
              "      <td>32111000659</td>\n",
              "      <td>6950152108</td>\n",
              "      <td>49</td>\n",
              "      <td>2.587840e+06</td>\n",
              "      <td>1.0</td>\n",
              "    </tr>\n",
              "    <tr>\n",
              "      <th>2051</th>\n",
              "      <td>7813252159</td>\n",
              "      <td>4.421386e+10</td>\n",
              "      <td>4.725344e+10</td>\n",
              "      <td>3.02</td>\n",
              "      <td>32211890869</td>\n",
              "      <td>6661001004</td>\n",
              "      <td>17</td>\n",
              "      <td>2.760000e+05</td>\n",
              "      <td>0.0</td>\n",
              "    </tr>\n",
              "  </tbody>\n",
              "</table>\n",
              "<p>2052 rows × 9 columns</p>\n",
              "</div>"
            ],
            "text/plain": [
              "     ИНН поставщика  Уставной капитал       Выручка  Темп прироста %  \\\n",
              "0        1106014140      5.758304e+09  4.989540e+11            91.49   \n",
              "1        1433000147      3.682483e+09  2.617680e+11            81.11   \n",
              "2        1434031363      8.616038e+10  8.017448e+10             3.58   \n",
              "3        1434031363      8.616038e+10  8.017448e+10             3.58   \n",
              "4        1434031363      8.616038e+10  8.017448e+10             3.58   \n",
              "...             ...               ...           ...              ...   \n",
              "2047     7805018099      2.073606e+10  8.188798e+10             1.87   \n",
              "2048     7805018099      2.073606e+10  8.188798e+10             1.87   \n",
              "2049     7805018099      2.073606e+10  8.188798e+10             1.87   \n",
              "2050     7805018099      2.073606e+10  8.188798e+10             1.87   \n",
              "2051     7813252159      4.421386e+10  4.725344e+10             3.02   \n",
              "\n",
              "     Номер закупки ИНН заказчика ОКПД2          Цена  Время выполнения  \n",
              "0      32110960997    1106024691    06  3.017975e+08               0.0  \n",
              "1      32009437716    1435326056    19  4.775860e+08              29.0  \n",
              "2      32110980912    2536038419    35  6.000000e+06               4.0  \n",
              "3      32110981250    2706015700    35  8.171000e+05               0.0  \n",
              "4      32111002641    2706028690    35  1.451776e+05               0.0  \n",
              "...            ...           ...   ...           ...               ...  \n",
              "2047   32009797834    6950152108    49  3.000000e+06              36.0  \n",
              "2048   32009797925    6950152108    49  1.400000e+07              38.0  \n",
              "2049   32111000521    6950152108    49  1.377490e+07               1.0  \n",
              "2050   32111000659    6950152108    49  2.587840e+06               1.0  \n",
              "2051   32211890869    6661001004    17  2.760000e+05               0.0  \n",
              "\n",
              "[2052 rows x 9 columns]"
            ]
          },
          "execution_count": 38,
          "metadata": {},
          "output_type": "execute_result"
        }
      ],
      "source": [
        "final_dataset = df_tin.merge(contract_df, how='inner', left_on='ИНН поставщика', right_on='ИНН поставщика')\\\n",
        "    .merge(df, how='inner', left_on='Номер закупки', right_on='Номер закупки')\n",
        "final_dataset"
      ]
    },
    {
      "cell_type": "markdown",
      "id": "6a34ca9f",
      "metadata": {
        "id": "6a34ca9f"
      },
      "source": [
        "Посмотрим на пропущенные значения в датасете:"
      ]
    },
    {
      "cell_type": "code",
      "execution_count": null,
      "id": "02e4577a",
      "metadata": {
        "id": "02e4577a",
        "outputId": "5debf308-877d-4ab8-8743-d5370b56e980"
      },
      "outputs": [
        {
          "data": {
            "text/plain": [
              "ИНН поставщика       0\n",
              "Уставной капитал    17\n",
              "Выручка              0\n",
              "Темп прироста %     17\n",
              "Номер закупки        0\n",
              "ИНН заказчика        0\n",
              "ОКПД2                1\n",
              "Цена                20\n",
              "Время выполнения     7\n",
              "dtype: int64"
            ]
          },
          "execution_count": 42,
          "metadata": {},
          "output_type": "execute_result"
        }
      ],
      "source": [
        "final_dataset.isna().sum()"
      ]
    },
    {
      "cell_type": "code",
      "execution_count": null,
      "id": "5047eb61",
      "metadata": {
        "id": "5047eb61",
        "outputId": "a6c1a21d-31b2-4d22-f0c7-6aa0010dbffe"
      },
      "outputs": [
        {
          "data": {
            "text/plain": [
              "array(['06', '19', '35', '33', '52', '46', '10', '29', '45', '22', '43',\n",
              "       '20', '28', '11', '05', '30', '49', None, '71', '68', '55', '62',\n",
              "       '80', '23', '27', '42', '47', '26', '36', '37', '02', '07', '72',\n",
              "       '31', '21', '24', '25', '77', '61', '74', '12', '32', '13', '01',\n",
              "       '82', '17', '51', '85', '95', '58', '84', '41', '81', '90', '63',\n",
              "       '65', '69', '93', '79', '70', '73', '14', '53', '64', '94', '86'],\n",
              "      dtype=object)"
            ]
          },
          "execution_count": 40,
          "metadata": {},
          "output_type": "execute_result"
        }
      ],
      "source": [
        "final_dataset['ОКПД2'].unique()"
      ]
    },
    {
      "cell_type": "markdown",
      "id": "318896f6",
      "metadata": {
        "id": "318896f6"
      },
      "source": [
        "Сначала посмотрим, у какого контракта пропущено значение ОКПД2."
      ]
    },
    {
      "cell_type": "code",
      "execution_count": null,
      "id": "17d4c340",
      "metadata": {
        "id": "17d4c340",
        "outputId": "1aa210ad-816d-403a-8959-eb1d2cedf12d"
      },
      "outputs": [
        {
          "data": {
            "text/html": [
              "<div>\n",
              "<style scoped>\n",
              "    .dataframe tbody tr th:only-of-type {\n",
              "        vertical-align: middle;\n",
              "    }\n",
              "\n",
              "    .dataframe tbody tr th {\n",
              "        vertical-align: top;\n",
              "    }\n",
              "\n",
              "    .dataframe thead th {\n",
              "        text-align: right;\n",
              "    }\n",
              "</style>\n",
              "<table border=\"1\" class=\"dataframe\">\n",
              "  <thead>\n",
              "    <tr style=\"text-align: right;\">\n",
              "      <th></th>\n",
              "      <th>ИНН поставщика</th>\n",
              "      <th>Уставной капитал</th>\n",
              "      <th>Выручка</th>\n",
              "      <th>Темп прироста %</th>\n",
              "      <th>Номер закупки</th>\n",
              "      <th>ИНН заказчика</th>\n",
              "      <th>ОКПД2</th>\n",
              "      <th>Цена</th>\n",
              "      <th>Время выполнения</th>\n",
              "    </tr>\n",
              "  </thead>\n",
              "  <tbody>\n",
              "    <tr>\n",
              "      <th>141</th>\n",
              "      <td>2308091759</td>\n",
              "      <td>4070260.0</td>\n",
              "      <td>3.833145e+10</td>\n",
              "      <td>11.36</td>\n",
              "      <td>32109952538</td>\n",
              "      <td>2302039833</td>\n",
              "      <td>None</td>\n",
              "      <td>NaN</td>\n",
              "      <td>0.0</td>\n",
              "    </tr>\n",
              "  </tbody>\n",
              "</table>\n",
              "</div>"
            ],
            "text/plain": [
              "    ИНН поставщика  Уставной капитал       Выручка  Темп прироста %  \\\n",
              "141     2308091759         4070260.0  3.833145e+10            11.36   \n",
              "\n",
              "    Номер закупки ИНН заказчика ОКПД2  Цена  Время выполнения  \n",
              "141   32109952538    2302039833  None   NaN               0.0  "
            ]
          },
          "execution_count": 43,
          "metadata": {},
          "output_type": "execute_result"
        }
      ],
      "source": [
        "final_dataset[final_dataset['ОКПД2'].isna() == 1]"
      ]
    },
    {
      "cell_type": "markdown",
      "id": "a7d8c675",
      "metadata": {
        "id": "a7d8c675"
      },
      "source": [
        "Посмотрев на название данной контрзакупки, можно понять, что ОКПД связан с электроэнергией, поэтому добавим вручную в этот столбец значение 35, что означает обеспечение электрической энергией, газом и паром."
      ]
    },
    {
      "cell_type": "code",
      "execution_count": null,
      "id": "40215fc3",
      "metadata": {
        "id": "40215fc3"
      },
      "outputs": [],
      "source": [
        "final_dataset = final_dataset.replace({'ОКПД2': {None: '35'}})"
      ]
    },
    {
      "cell_type": "markdown",
      "id": "0dd24c64",
      "metadata": {
        "id": "0dd24c64"
      },
      "source": [
        "Посмотрим на распределения остальных колонок, где есть пропущенные значения."
      ]
    },
    {
      "cell_type": "code",
      "execution_count": null,
      "id": "9249e8c6",
      "metadata": {
        "id": "9249e8c6",
        "outputId": "17e29e84-30dc-4d63-ae52-84bf544ab0d9"
      },
      "outputs": [
        {
          "data": {
            "image/png": "[encoded data removed]",
            "text/plain": [
              "<Figure size 1440x810 with 4 Axes>"
            ]
          },
          "metadata": {
            "needs_background": "light"
          },
          "output_type": "display_data"
        }
      ],
      "source": [
        "fig, axs = plt.subplots(nrows= 2 , ncols= 2, figsize=(16, 9), dpi=90)\n",
        "\n",
        "fig. suptitle('гистограммы')\n",
        "\n",
        "axs[0, 0].hist(final_dataset['Уставной капитал'])\n",
        "axs[0, 0].set_title('Уставной капитал')\n",
        "axs[0, 1].hist(final_dataset['Темп прироста %'])\n",
        "axs[0, 1].set_title('Темп прироста %')\n",
        "axs[1, 0].hist(final_dataset['Цена'])\n",
        "axs[1, 0].set_title('Цена')\n",
        "axs[1, 1].hist(final_dataset['Время выполнения'])\n",
        "axs[1, 1].set_title('Время выполнения');"
      ]
    },
    {
      "cell_type": "code",
      "execution_count": null,
      "id": "2dc1e470",
      "metadata": {
        "id": "2dc1e470",
        "outputId": "f00891c3-182e-4f4b-811e-bd2315dcdd04"
      },
      "outputs": [
        {
          "data": {
            "text/html": [
              "<div>\n",
              "<style scoped>\n",
              "    .dataframe tbody tr th:only-of-type {\n",
              "        vertical-align: middle;\n",
              "    }\n",
              "\n",
              "    .dataframe tbody tr th {\n",
              "        vertical-align: top;\n",
              "    }\n",
              "\n",
              "    .dataframe thead th {\n",
              "        text-align: right;\n",
              "    }\n",
              "</style>\n",
              "<table border=\"1\" class=\"dataframe\">\n",
              "  <thead>\n",
              "    <tr style=\"text-align: right;\">\n",
              "      <th></th>\n",
              "      <th>Уставной капитал</th>\n",
              "      <th>Выручка</th>\n",
              "      <th>Темп прироста %</th>\n",
              "      <th>Цена</th>\n",
              "      <th>Время выполнения</th>\n",
              "    </tr>\n",
              "  </thead>\n",
              "  <tbody>\n",
              "    <tr>\n",
              "      <th>count</th>\n",
              "      <td>2.035000e+03</td>\n",
              "      <td>2.052000e+03</td>\n",
              "      <td>2035.000000</td>\n",
              "      <td>2.032000e+03</td>\n",
              "      <td>2045.000000</td>\n",
              "    </tr>\n",
              "    <tr>\n",
              "      <th>mean</th>\n",
              "      <td>7.144983e+10</td>\n",
              "      <td>1.542873e+11</td>\n",
              "      <td>138.186167</td>\n",
              "      <td>4.482990e+07</td>\n",
              "      <td>8.016626</td>\n",
              "    </tr>\n",
              "    <tr>\n",
              "      <th>std</th>\n",
              "      <td>4.315239e+11</td>\n",
              "      <td>4.399752e+11</td>\n",
              "      <td>3563.490171</td>\n",
              "      <td>3.584220e+08</td>\n",
              "      <td>86.259205</td>\n",
              "    </tr>\n",
              "    <tr>\n",
              "      <th>min</th>\n",
              "      <td>9.000000e+03</td>\n",
              "      <td>0.000000e+00</td>\n",
              "      <td>0.300000</td>\n",
              "      <td>1.100000e-01</td>\n",
              "      <td>-334.000000</td>\n",
              "    </tr>\n",
              "    <tr>\n",
              "      <th>25%</th>\n",
              "      <td>4.331860e+06</td>\n",
              "      <td>3.993788e+10</td>\n",
              "      <td>8.450000</td>\n",
              "      <td>4.000000e+05</td>\n",
              "      <td>0.000000</td>\n",
              "    </tr>\n",
              "    <tr>\n",
              "      <th>50%</th>\n",
              "      <td>1.500000e+08</td>\n",
              "      <td>6.063971e+10</td>\n",
              "      <td>16.230000</td>\n",
              "      <td>1.443309e+06</td>\n",
              "      <td>0.000000</td>\n",
              "    </tr>\n",
              "    <tr>\n",
              "      <th>75%</th>\n",
              "      <td>4.142657e+09</td>\n",
              "      <td>1.139242e+11</td>\n",
              "      <td>33.550000</td>\n",
              "      <td>7.499762e+06</td>\n",
              "      <td>14.000000</td>\n",
              "    </tr>\n",
              "    <tr>\n",
              "      <th>max</th>\n",
              "      <td>3.212182e+12</td>\n",
              "      <td>7.593832e+12</td>\n",
              "      <td>113716.580000</td>\n",
              "      <td>9.405000e+09</td>\n",
              "      <td>631.000000</td>\n",
              "    </tr>\n",
              "  </tbody>\n",
              "</table>\n",
              "</div>"
            ],
            "text/plain": [
              "       Уставной капитал       Выручка  Темп прироста %          Цена  \\\n",
              "count      2.035000e+03  2.052000e+03      2035.000000  2.032000e+03   \n",
              "mean       7.144983e+10  1.542873e+11       138.186167  4.482990e+07   \n",
              "std        4.315239e+11  4.399752e+11      3563.490171  3.584220e+08   \n",
              "min        9.000000e+03  0.000000e+00         0.300000  1.100000e-01   \n",
              "25%        4.331860e+06  3.993788e+10         8.450000  4.000000e+05   \n",
              "50%        1.500000e+08  6.063971e+10        16.230000  1.443309e+06   \n",
              "75%        4.142657e+09  1.139242e+11        33.550000  7.499762e+06   \n",
              "max        3.212182e+12  7.593832e+12    113716.580000  9.405000e+09   \n",
              "\n",
              "       Время выполнения  \n",
              "count       2045.000000  \n",
              "mean           8.016626  \n",
              "std           86.259205  \n",
              "min         -334.000000  \n",
              "25%            0.000000  \n",
              "50%            0.000000  \n",
              "75%           14.000000  \n",
              "max          631.000000  "
            ]
          },
          "execution_count": 47,
          "metadata": {},
          "output_type": "execute_result"
        }
      ],
      "source": [
        "final_dataset.describe()"
      ]
    },
    {
      "cell_type": "markdown",
      "id": "3f848816",
      "metadata": {
        "id": "3f848816"
      },
      "source": [
        "По графику с гистограммами можно заметить большие выбросы в колонках \"Уставной капитал\", \"Цена\" и \"Темп прироста %\", что искажает математическое ожидание, поэтому пропущенные значения в этих колонках мы заменим медианой, а в колонке \"Время выполнения\" - средним."
      ]
    },
    {
      "cell_type": "code",
      "execution_count": null,
      "id": "ff145ac2",
      "metadata": {
        "id": "ff145ac2"
      },
      "outputs": [],
      "source": [
        "final_dataset['Время выполнения'] = final_dataset['Время выполнения']\\\n",
        "    .fillna(final_dataset['Время выполнения'].mean())\n",
        "\n",
        "final_dataset[['Уставной капитал', 'Цена', 'Темп прироста %']] = final_dataset[['Уставной капитал', 'Цена', 'Темп прироста %']]\\\n",
        "    .fillna(final_dataset[['Уставной капитал', 'Цена', 'Темп прироста %']].median())"
      ]
    },
    {
      "cell_type": "code",
      "execution_count": null,
      "id": "93cd34ba",
      "metadata": {
        "id": "93cd34ba",
        "outputId": "f59d71ae-810b-429b-a82e-d3a94cdbc915"
      },
      "outputs": [
        {
          "data": {
            "text/html": [
              "<div>\n",
              "<style scoped>\n",
              "    .dataframe tbody tr th:only-of-type {\n",
              "        vertical-align: middle;\n",
              "    }\n",
              "\n",
              "    .dataframe tbody tr th {\n",
              "        vertical-align: top;\n",
              "    }\n",
              "\n",
              "    .dataframe thead th {\n",
              "        text-align: right;\n",
              "    }\n",
              "</style>\n",
              "<table border=\"1\" class=\"dataframe\">\n",
              "  <thead>\n",
              "    <tr style=\"text-align: right;\">\n",
              "      <th></th>\n",
              "      <th>ИНН поставщика</th>\n",
              "      <th>Уставной капитал</th>\n",
              "      <th>Выручка</th>\n",
              "      <th>Темп прироста %</th>\n",
              "      <th>Номер закупки</th>\n",
              "      <th>ИНН заказчика</th>\n",
              "      <th>ОКПД2</th>\n",
              "      <th>Цена</th>\n",
              "      <th>Время выполнения</th>\n",
              "    </tr>\n",
              "  </thead>\n",
              "  <tbody>\n",
              "    <tr>\n",
              "      <th>0</th>\n",
              "      <td>1106014140</td>\n",
              "      <td>5.758304e+09</td>\n",
              "      <td>4.989540e+11</td>\n",
              "      <td>91.49</td>\n",
              "      <td>32110960997</td>\n",
              "      <td>1106024691</td>\n",
              "      <td>06</td>\n",
              "      <td>3.017975e+08</td>\n",
              "      <td>0.0</td>\n",
              "    </tr>\n",
              "    <tr>\n",
              "      <th>1</th>\n",
              "      <td>1433000147</td>\n",
              "      <td>3.682483e+09</td>\n",
              "      <td>2.617680e+11</td>\n",
              "      <td>81.11</td>\n",
              "      <td>32009437716</td>\n",
              "      <td>1435326056</td>\n",
              "      <td>19</td>\n",
              "      <td>4.775860e+08</td>\n",
              "      <td>29.0</td>\n",
              "    </tr>\n",
              "    <tr>\n",
              "      <th>2</th>\n",
              "      <td>1434031363</td>\n",
              "      <td>8.616038e+10</td>\n",
              "      <td>8.017448e+10</td>\n",
              "      <td>3.58</td>\n",
              "      <td>32110980912</td>\n",
              "      <td>2536038419</td>\n",
              "      <td>35</td>\n",
              "      <td>6.000000e+06</td>\n",
              "      <td>4.0</td>\n",
              "    </tr>\n",
              "    <tr>\n",
              "      <th>3</th>\n",
              "      <td>1434031363</td>\n",
              "      <td>8.616038e+10</td>\n",
              "      <td>8.017448e+10</td>\n",
              "      <td>3.58</td>\n",
              "      <td>32110981250</td>\n",
              "      <td>2706015700</td>\n",
              "      <td>35</td>\n",
              "      <td>8.171000e+05</td>\n",
              "      <td>0.0</td>\n",
              "    </tr>\n",
              "    <tr>\n",
              "      <th>4</th>\n",
              "      <td>1434031363</td>\n",
              "      <td>8.616038e+10</td>\n",
              "      <td>8.017448e+10</td>\n",
              "      <td>3.58</td>\n",
              "      <td>32111002641</td>\n",
              "      <td>2706028690</td>\n",
              "      <td>35</td>\n",
              "      <td>1.451776e+05</td>\n",
              "      <td>0.0</td>\n",
              "    </tr>\n",
              "    <tr>\n",
              "      <th>...</th>\n",
              "      <td>...</td>\n",
              "      <td>...</td>\n",
              "      <td>...</td>\n",
              "      <td>...</td>\n",
              "      <td>...</td>\n",
              "      <td>...</td>\n",
              "      <td>...</td>\n",
              "      <td>...</td>\n",
              "      <td>...</td>\n",
              "    </tr>\n",
              "    <tr>\n",
              "      <th>2047</th>\n",
              "      <td>7805018099</td>\n",
              "      <td>2.073606e+10</td>\n",
              "      <td>8.188798e+10</td>\n",
              "      <td>1.87</td>\n",
              "      <td>32009797834</td>\n",
              "      <td>6950152108</td>\n",
              "      <td>49</td>\n",
              "      <td>3.000000e+06</td>\n",
              "      <td>36.0</td>\n",
              "    </tr>\n",
              "    <tr>\n",
              "      <th>2048</th>\n",
              "      <td>7805018099</td>\n",
              "      <td>2.073606e+10</td>\n",
              "      <td>8.188798e+10</td>\n",
              "      <td>1.87</td>\n",
              "      <td>32009797925</td>\n",
              "      <td>6950152108</td>\n",
              "      <td>49</td>\n",
              "      <td>1.400000e+07</td>\n",
              "      <td>38.0</td>\n",
              "    </tr>\n",
              "    <tr>\n",
              "      <th>2049</th>\n",
              "      <td>7805018099</td>\n",
              "      <td>2.073606e+10</td>\n",
              "      <td>8.188798e+10</td>\n",
              "      <td>1.87</td>\n",
              "      <td>32111000521</td>\n",
              "      <td>6950152108</td>\n",
              "      <td>49</td>\n",
              "      <td>1.377490e+07</td>\n",
              "      <td>1.0</td>\n",
              "    </tr>\n",
              "    <tr>\n",
              "      <th>2050</th>\n",
              "      <td>7805018099</td>\n",
              "      <td>2.073606e+10</td>\n",
              "      <td>8.188798e+10</td>\n",
              "      <td>1.87</td>\n",
              "      <td>32111000659</td>\n",
              "      <td>6950152108</td>\n",
              "      <td>49</td>\n",
              "      <td>2.587840e+06</td>\n",
              "      <td>1.0</td>\n",
              "    </tr>\n",
              "    <tr>\n",
              "      <th>2051</th>\n",
              "      <td>7813252159</td>\n",
              "      <td>4.421386e+10</td>\n",
              "      <td>4.725344e+10</td>\n",
              "      <td>3.02</td>\n",
              "      <td>32211890869</td>\n",
              "      <td>6661001004</td>\n",
              "      <td>17</td>\n",
              "      <td>2.760000e+05</td>\n",
              "      <td>0.0</td>\n",
              "    </tr>\n",
              "  </tbody>\n",
              "</table>\n",
              "<p>2052 rows × 9 columns</p>\n",
              "</div>"
            ],
            "text/plain": [
              "     ИНН поставщика  Уставной капитал       Выручка  Темп прироста %  \\\n",
              "0        1106014140      5.758304e+09  4.989540e+11            91.49   \n",
              "1        1433000147      3.682483e+09  2.617680e+11            81.11   \n",
              "2        1434031363      8.616038e+10  8.017448e+10             3.58   \n",
              "3        1434031363      8.616038e+10  8.017448e+10             3.58   \n",
              "4        1434031363      8.616038e+10  8.017448e+10             3.58   \n",
              "...             ...               ...           ...              ...   \n",
              "2047     7805018099      2.073606e+10  8.188798e+10             1.87   \n",
              "2048     7805018099      2.073606e+10  8.188798e+10             1.87   \n",
              "2049     7805018099      2.073606e+10  8.188798e+10             1.87   \n",
              "2050     7805018099      2.073606e+10  8.188798e+10             1.87   \n",
              "2051     7813252159      4.421386e+10  4.725344e+10             3.02   \n",
              "\n",
              "     Номер закупки ИНН заказчика ОКПД2          Цена  Время выполнения  \n",
              "0      32110960997    1106024691    06  3.017975e+08               0.0  \n",
              "1      32009437716    1435326056    19  4.775860e+08              29.0  \n",
              "2      32110980912    2536038419    35  6.000000e+06               4.0  \n",
              "3      32110981250    2706015700    35  8.171000e+05               0.0  \n",
              "4      32111002641    2706028690    35  1.451776e+05               0.0  \n",
              "...            ...           ...   ...           ...               ...  \n",
              "2047   32009797834    6950152108    49  3.000000e+06              36.0  \n",
              "2048   32009797925    6950152108    49  1.400000e+07              38.0  \n",
              "2049   32111000521    6950152108    49  1.377490e+07               1.0  \n",
              "2050   32111000659    6950152108    49  2.587840e+06               1.0  \n",
              "2051   32211890869    6661001004    17  2.760000e+05               0.0  \n",
              "\n",
              "[2052 rows x 9 columns]"
            ]
          },
          "execution_count": 49,
          "metadata": {},
          "output_type": "execute_result"
        }
      ],
      "source": [
        "final_dataset"
      ]
    },
    {
      "cell_type": "code",
      "execution_count": null,
      "id": "fdfa60ab",
      "metadata": {
        "id": "fdfa60ab",
        "outputId": "53fd5c96-96c6-4a55-a2fe-2ecaaae7f430"
      },
      "outputs": [
        {
          "data": {
            "text/plain": [
              "ИНН поставщика      0\n",
              "Уставной капитал    0\n",
              "Выручка             0\n",
              "Темп прироста %     0\n",
              "Номер закупки       0\n",
              "ИНН заказчика       0\n",
              "ОКПД2               0\n",
              "Цена                0\n",
              "Время выполнения    0\n",
              "dtype: int64"
            ]
          },
          "execution_count": 50,
          "metadata": {},
          "output_type": "execute_result"
        }
      ],
      "source": [
        "final_dataset.isna().sum()"
      ]
    },
    {
      "cell_type": "code",
      "execution_count": null,
      "id": "61bf079c",
      "metadata": {
        "id": "61bf079c"
      },
      "outputs": [],
      "source": []
    },
    {
      "cell_type": "code",
      "execution_count": null,
      "id": "a53a0004",
      "metadata": {
        "id": "a53a0004"
      },
      "outputs": [],
      "source": []
    }
  ],
  "metadata": {
    "kernelspec": {
      "display_name": "Python 3 (ipykernel)",
      "language": "python",
      "name": "python3"
    },
    "language_info": {
      "codemirror_mode": {
        "name": "ipython",
        "version": 3
      },
      "file_extension": ".py",
      "mimetype": "text/x-python",
      "name": "python",
      "nbconvert_exporter": "python",
      "pygments_lexer": "ipython3",
      "version": "3.11.4"
    },
    "colab": {
      "provenance": []
    }
  },
  "nbformat": 4,
  "nbformat_minor": 5
}